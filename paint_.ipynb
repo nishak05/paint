{
  "nbformat": 4,
  "nbformat_minor": 0,
  "metadata": {
    "colab": {
      "provenance": []
    },
    "kernelspec": {
      "name": "python3",
      "display_name": "Python 3"
    },
    "language_info": {
      "name": "python"
    }
  },
  "cells": [
    {
      "cell_type": "code",
      "execution_count": null,
      "metadata": {
        "id": "YnBiVss1YTsg"
      },
      "outputs": [],
      "source": [
        "import cv2\n",
        "import numpy as np"
      ]
    },
    {
      "cell_type": "code",
      "source": [
        "drw=False\n",
        "radius=5\n",
        "t=1\n",
        "color=(0,255,0)\n",
        "a,b=-1,-1\n",
        "mode=True"
      ],
      "metadata": {
        "id": "WrW8Mmj5YZqe"
      },
      "execution_count": null,
      "outputs": []
    },
    {
      "cell_type": "code",
      "source": [
        "def set(value):\n",
        "    global radius\n",
        "    radius=value\n",
        "\n",
        "def thick(val):\n",
        "    global t\n",
        "    t=val\n",
        "\n",
        "def blue(value):\n",
        "    global color\n",
        "    color=(value,color[1],color[2])\n",
        "\n",
        "def green(value):\n",
        "    global color\n",
        "    color=(color[0],value,color[2])\n",
        "\n",
        "def red(value):\n",
        "    global color\n",
        "    color=(color[0],color[1],value)\n",
        "def shape(value):\n",
        "    global mode\n",
        "    if value==0:\n",
        "          mode=True\n",
        "    elif value==1:\n",
        "         mode=False"
      ],
      "metadata": {
        "id": "l5GNafwQYdX5"
      },
      "execution_count": null,
      "outputs": []
    },
    {
      "cell_type": "code",
      "source": [
        "def mouse(event,x,y,flags,param):\n",
        "    global a,b,drw,mode\n",
        "\n",
        "    if event==cv2.EVENT_LBUTTONDOWN:\n",
        "        drw=True\n",
        "        a,b=x,y\n",
        "\n",
        "    elif event==cv2.EVENT_MOUSEMOVE:\n",
        "        if drw==True:\n",
        "            if mode==True:\n",
        "                cv2.rectangle(img,(a,b),(x,y),color,-1)\n",
        "            else:\n",
        "                cv2.circle(img,(x,y),radius,color,t)\n",
        "\n",
        "    elif event==cv2.EVENT_LBUTTONUP:\n",
        "        drw=False\n",
        "        if mode==True:\n",
        "            cv2.rectangle(img,(a,b),(x,y),color,1)\n",
        "        else:\n",
        "            cv2.circle(img,(x,y),radius,color,t)"
      ],
      "metadata": {
        "id": "ybAYZzYJYjK3"
      },
      "execution_count": null,
      "outputs": []
    },
    {
      "cell_type": "code",
      "source": [
        "img=np.zeros((512,512,3),np.uint8)\n",
        "cv2.namedWindow('frame')\n",
        "cv2.setMouseCallback('frame',mouse)\n"
      ],
      "metadata": {
        "id": "OWg-TJ_HYobw"
      },
      "execution_count": null,
      "outputs": []
    },
    {
      "cell_type": "code",
      "source": [
        "cv2.namedWindow('track')\n",
        "cv2.createTrackbar('radius','track',radius,50,set)\n",
        "cv2.createTrackbar('thickness','track',t,10,thick)\n",
        "cv2.createTrackbar('blue','track',color[0],255,blue)\n",
        "cv2.createTrackbar('green','track',color[1],255,green)\n",
        "cv2.createTrackbar('red','track',color[2],255,red)\n",
        "cv2.createTrackbar('shape','track',0,1,shape)\n"
      ],
      "metadata": {
        "id": "Xk3Y64VbYrXq"
      },
      "execution_count": null,
      "outputs": []
    },
    {
      "cell_type": "code",
      "source": [
        "while(True):\n",
        "\n",
        "    cv2.imshow('frame',img)\n",
        "    if cv2.waitKey(1) & 0xFF ==ord('q'):\n",
        "        break\n"
      ],
      "metadata": {
        "id": "CI9wiztnYvMU"
      },
      "execution_count": null,
      "outputs": []
    },
    {
      "cell_type": "code",
      "source": [
        "cv2.destroyAllWindows()"
      ],
      "metadata": {
        "id": "23MTdbrqYzCo"
      },
      "execution_count": null,
      "outputs": []
    }
  ]
}